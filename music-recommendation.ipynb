{
 "cells": [
  {
   "cell_type": "markdown",
   "metadata": {
    "_cell_guid": "99eb1258-c71a-4b82-8e59-982d15f09fd0",
    "_uuid": "9238ff111736f6dafa907a02fed5bf5f59e4fc27"
   },
   "source": [
    "# Music Recommendation -- Random Forest, XGboost"
   ]
  },
  {
   "cell_type": "code",
   "execution_count": 1,
   "metadata": {
    "_cell_guid": "3cb501c4-dadc-4c3d-9034-dae9f36cfca1",
    "_uuid": "8401fb3bb4c7a53a8c58e48db4113d1d402a8111",
    "collapsed": true
   },
   "outputs": [
    {
     "name": "stderr",
     "output_type": "stream",
     "text": [
      "/opt/conda/lib/python3.6/site-packages/sklearn/cross_validation.py:41: DeprecationWarning: This module was deprecated in version 0.18 in favor of the model_selection module into which all the refactored classes and functions are moved. Also note that the interface of the new CV iterators are different from that of this module. This module will be removed in 0.20.\n",
      "  \"This module will be removed in 0.20.\", DeprecationWarning)\n",
      "/opt/conda/lib/python3.6/site-packages/sklearn/grid_search.py:42: DeprecationWarning: This module was deprecated in version 0.18 in favor of the model_selection module into which all the refactored classes and functions are moved. This module will be removed in 0.20.\n",
      "  DeprecationWarning)\n"
     ]
    }
   ],
   "source": [
    "# Load Python libraries\n",
    "from sklearn import cross_validation, grid_search, metrics, ensemble\n",
    "import xgboost as xgb\n",
    "import numpy as np\n",
    "import pandas as pd\n",
    "import seaborn as sns\n",
    "import matplotlib.pyplot as plt\n",
    "import matplotlib as mpl\n",
    "import warnings\n",
    "warnings.filterwarnings('ignore')\n",
    "plt.style.use('ggplot')"
   ]
  },
  {
   "cell_type": "markdown",
   "metadata": {
    "_cell_guid": "083ab3c8-e2fc-472b-af26-fedf97c82dbc",
    "_uuid": "ed268cdb9426fa20e5b4e523b2c14fe9ca6a7741"
   },
   "source": [
    "## Data Preparation\n",
    "\n",
    "I merged 3 datasets (train, songs, members), replaced NAs, created 6 columns (days, months, years of registration_init_time and expiration_date), droped correlating columns.\n",
    "\n",
    "**1% of Data is used in the kernel.**"
   ]
  },
  {
   "cell_type": "code",
   "execution_count": 2,
   "metadata": {
    "_cell_guid": "323c09d3-4908-478a-abc9-8d7be6669620",
    "_uuid": "9a273952dd0ac2715f48aa16a90278bba6021a1e",
    "collapsed": true
   },
   "outputs": [],
   "source": [
    "# Load data\n",
    "df = pd.read_csv('../input/train.csv')\n",
    "\n",
    "# 1% sample of items\n",
    "df = df.sample(frac=0.01)"
   ]
  },
  {
   "cell_type": "code",
   "execution_count": 3,
   "metadata": {
    "_cell_guid": "133c555c-7927-4e60-ad75-f2fabb82b948",
    "_uuid": "e35704b25cc37bbc9e231e681cbd627a95aeadbc",
    "collapsed": true
   },
   "outputs": [],
   "source": [
    "# Load and join songs data\n",
    "songs = pd.read_csv('../input/songs.csv')\n",
    "df = pd.merge(df, songs, on='song_id', how='left')\n",
    "del songs\n",
    "\n",
    "# Load and join songs data\n",
    "members = pd.read_csv('../input/members.csv')\n",
    "df = pd.merge(df, members, on='msno', how='left')\n",
    "del members"
   ]
  },
  {
   "cell_type": "code",
   "execution_count": 4,
   "metadata": {
    "_cell_guid": "e3bce84e-1ae4-43e0-9fbb-37f6c58534b0",
    "_uuid": "eaf838ed7a75cd3b597d32b78d63dde8417ad717",
    "collapsed": true
   },
   "outputs": [
    {
     "name": "stdout",
     "output_type": "stream",
     "text": [
      "<class 'pandas.core.frame.DataFrame'>\n",
      "Int64Index: 73774 entries, 0 to 73773\n",
      "Data columns (total 18 columns):\n",
      "msno                      73774 non-null object\n",
      "song_id                   73774 non-null object\n",
      "source_system_tab         73527 non-null object\n",
      "source_screen_name        69577 non-null object\n",
      "source_type               73563 non-null object\n",
      "target                    73774 non-null int64\n",
      "song_length               73773 non-null float64\n",
      "genre_ids                 72613 non-null object\n",
      "artist_name               73773 non-null object\n",
      "composer                  57028 non-null object\n",
      "lyricist                  41929 non-null object\n",
      "language                  73772 non-null float64\n",
      "city                      73774 non-null int64\n",
      "bd                        73774 non-null int64\n",
      "gender                    44196 non-null object\n",
      "registered_via            73774 non-null int64\n",
      "registration_init_time    73774 non-null int64\n",
      "expiration_date           73774 non-null int64\n",
      "dtypes: float64(2), int64(6), object(10)\n",
      "memory usage: 10.7+ MB\n"
     ]
    }
   ],
   "source": [
    "df.info()"
   ]
  },
  {
   "cell_type": "code",
   "execution_count": 5,
   "metadata": {
    "_cell_guid": "941e45d6-2ef6-499c-9bef-240e9f309701",
    "_uuid": "c2b3d2b26bfa4e8186203b3a85b49dcf8b5404ea",
    "collapsed": true
   },
   "outputs": [
    {
     "data": {
      "text/plain": [
       "msno                       0.000000\n",
       "song_id                    0.000000\n",
       "source_system_tab          0.334806\n",
       "source_screen_name         5.688996\n",
       "source_type                0.286009\n",
       "target                     0.000000\n",
       "song_length                0.001355\n",
       "genre_ids                  1.573725\n",
       "artist_name                0.001355\n",
       "composer                  22.699054\n",
       "lyricist                  43.165614\n",
       "language                   0.002711\n",
       "city                       0.000000\n",
       "bd                         0.000000\n",
       "gender                    40.092716\n",
       "registered_via             0.000000\n",
       "registration_init_time     0.000000\n",
       "expiration_date            0.000000\n",
       "dtype: float64"
      ]
     },
     "execution_count": 5,
     "metadata": {},
     "output_type": "execute_result"
    }
   ],
   "source": [
    "# Count Na in %\n",
    "df.isnull().sum()/df.isnull().count()*100"
   ]
  },
  {
   "cell_type": "code",
   "execution_count": 6,
   "metadata": {
    "_cell_guid": "1412df2a-ea7b-4130-b4cb-91026afca736",
    "_uuid": "631e06cba7993a2315daec41d19f2dae5d2a680f",
    "collapsed": true
   },
   "outputs": [],
   "source": [
    "# Replace NA\n",
    "for i in df.select_dtypes(include=['object']).columns:\n",
    "    df[i][df[i].isnull()] = 'unknown'\n",
    "df = df.fillna(value=0)"
   ]
  },
  {
   "cell_type": "code",
   "execution_count": 7,
   "metadata": {
    "_cell_guid": "3ff63757-e32b-436e-8afb-b19e98a6c703",
    "_uuid": "2598a1b6419d2651cd686b51b607016b7afe1e57",
    "collapsed": true
   },
   "outputs": [],
   "source": [
    "# Create Dates\n",
    "\n",
    "# registration_init_time\n",
    "df.registration_init_time = pd.to_datetime(df.registration_init_time, format='%Y%m%d', errors='ignore')\n",
    "df['registration_init_time_year'] = df['registration_init_time'].dt.year\n",
    "df['registration_init_time_month'] = df['registration_init_time'].dt.month\n",
    "df['registration_init_time_day'] = df['registration_init_time'].dt.day\n",
    "\n",
    "# expiration_date\n",
    "df.expiration_date = pd.to_datetime(df.expiration_date,  format='%Y%m%d', errors='ignore')\n",
    "df['expiration_date_year'] = df['expiration_date'].dt.year\n",
    "df['expiration_date_month'] = df['expiration_date'].dt.month\n",
    "df['expiration_date_day'] = df['expiration_date'].dt.day"
   ]
  },
  {
   "cell_type": "code",
   "execution_count": 8,
   "metadata": {
    "_cell_guid": "0b6c2284-14c0-4cb1-95a6-3bcc1f6b7ecb",
    "_uuid": "d527b49dc13cb639b719829e7ea8acdc96a83763",
    "collapsed": true,
    "scrolled": false
   },
   "outputs": [
    {
     "data": {
      "text/html": [
       "<div>\n",
       "<style scoped>\n",
       "    .dataframe tbody tr th:only-of-type {\n",
       "        vertical-align: middle;\n",
       "    }\n",
       "\n",
       "    .dataframe tbody tr th {\n",
       "        vertical-align: top;\n",
       "    }\n",
       "\n",
       "    .dataframe thead th {\n",
       "        text-align: right;\n",
       "    }\n",
       "</style>\n",
       "<table border=\"1\" class=\"dataframe\">\n",
       "  <thead>\n",
       "    <tr style=\"text-align: right;\">\n",
       "      <th></th>\n",
       "      <th>msno</th>\n",
       "      <th>song_id</th>\n",
       "      <th>source_system_tab</th>\n",
       "      <th>source_screen_name</th>\n",
       "      <th>source_type</th>\n",
       "      <th>target</th>\n",
       "      <th>song_length</th>\n",
       "      <th>genre_ids</th>\n",
       "      <th>artist_name</th>\n",
       "      <th>composer</th>\n",
       "      <th>...</th>\n",
       "      <th>gender</th>\n",
       "      <th>registered_via</th>\n",
       "      <th>registration_init_time</th>\n",
       "      <th>expiration_date</th>\n",
       "      <th>registration_init_time_year</th>\n",
       "      <th>registration_init_time_month</th>\n",
       "      <th>registration_init_time_day</th>\n",
       "      <th>expiration_date_year</th>\n",
       "      <th>expiration_date_month</th>\n",
       "      <th>expiration_date_day</th>\n",
       "    </tr>\n",
       "  </thead>\n",
       "  <tbody>\n",
       "    <tr>\n",
       "      <th>0</th>\n",
       "      <td>crUeQ6DYDHHRNYmn+n5Kodfvu9ki0IdHfXHNlZEUPHs=</td>\n",
       "      <td>d9Flpsyq/y8CR3F213pnXUkrfK1fMClvhYH37pFSc7s=</td>\n",
       "      <td>discover</td>\n",
       "      <td>Discover Genre</td>\n",
       "      <td>online-playlist</td>\n",
       "      <td>1</td>\n",
       "      <td>295497.0</td>\n",
       "      <td>465</td>\n",
       "      <td>Adele</td>\n",
       "      <td>Adele Adkins| Greg Kurstin</td>\n",
       "      <td>...</td>\n",
       "      <td>male</td>\n",
       "      <td>9</td>\n",
       "      <td>2014-06-14</td>\n",
       "      <td>2017-09-07</td>\n",
       "      <td>2014</td>\n",
       "      <td>6</td>\n",
       "      <td>14</td>\n",
       "      <td>2017</td>\n",
       "      <td>9</td>\n",
       "      <td>7</td>\n",
       "    </tr>\n",
       "    <tr>\n",
       "      <th>1</th>\n",
       "      <td>rNJWIl2uvL2o+m5xP6Wbu4Pzokslrb2eQlGYe82r7fA=</td>\n",
       "      <td>TRe3/tOgqw/x4a8nhG/qe88tQQXd2P7yem3Ub61D0CQ=</td>\n",
       "      <td>my library</td>\n",
       "      <td>Local playlist more</td>\n",
       "      <td>local-library</td>\n",
       "      <td>1</td>\n",
       "      <td>274176.0</td>\n",
       "      <td>458</td>\n",
       "      <td>徐佳瑩 (Lala Hsu)</td>\n",
       "      <td>黃建為</td>\n",
       "      <td>...</td>\n",
       "      <td>male</td>\n",
       "      <td>7</td>\n",
       "      <td>2013-11-19</td>\n",
       "      <td>2017-10-03</td>\n",
       "      <td>2013</td>\n",
       "      <td>11</td>\n",
       "      <td>19</td>\n",
       "      <td>2017</td>\n",
       "      <td>10</td>\n",
       "      <td>3</td>\n",
       "    </tr>\n",
       "    <tr>\n",
       "      <th>2</th>\n",
       "      <td>lbJHQba4aEMJUFDFgDE7PwTdR1UoY/iLj+XkofWMsik=</td>\n",
       "      <td>AJQOsWR+d8TYfx8K3IngAs9/GSQE5ujDqBx/8PYm6zo=</td>\n",
       "      <td>discover</td>\n",
       "      <td>Online playlist more</td>\n",
       "      <td>online-playlist</td>\n",
       "      <td>0</td>\n",
       "      <td>285600.0</td>\n",
       "      <td>458</td>\n",
       "      <td>林宥嘉 (Yoga Lin)</td>\n",
       "      <td>張葉帆</td>\n",
       "      <td>...</td>\n",
       "      <td>male</td>\n",
       "      <td>9</td>\n",
       "      <td>2008-11-29</td>\n",
       "      <td>2017-07-17</td>\n",
       "      <td>2008</td>\n",
       "      <td>11</td>\n",
       "      <td>29</td>\n",
       "      <td>2017</td>\n",
       "      <td>7</td>\n",
       "      <td>17</td>\n",
       "    </tr>\n",
       "    <tr>\n",
       "      <th>3</th>\n",
       "      <td>B14Thl6p2fkkE10+Jq2KXliDLa7LLQX6b5kEvkVzylw=</td>\n",
       "      <td>RxCEvZAXgnh1ZDlQBuVb/J9xpnopFSJBaBxLqGZIXSs=</td>\n",
       "      <td>my library</td>\n",
       "      <td>Local playlist more</td>\n",
       "      <td>local-playlist</td>\n",
       "      <td>0</td>\n",
       "      <td>297482.0</td>\n",
       "      <td>458</td>\n",
       "      <td>周杰倫 (Jay Chou)</td>\n",
       "      <td>周杰倫</td>\n",
       "      <td>...</td>\n",
       "      <td>male</td>\n",
       "      <td>9</td>\n",
       "      <td>2005-08-13</td>\n",
       "      <td>2017-10-06</td>\n",
       "      <td>2005</td>\n",
       "      <td>8</td>\n",
       "      <td>13</td>\n",
       "      <td>2017</td>\n",
       "      <td>10</td>\n",
       "      <td>6</td>\n",
       "    </tr>\n",
       "    <tr>\n",
       "      <th>4</th>\n",
       "      <td>wGUfULxf/bZwNgo7+2KxcQSKOp+86YtlLJTty1/fp+M=</td>\n",
       "      <td>ot7ZDLrguBLIG2TiXjT0VGawAzmSlgcDZv6+UkKeOHo=</td>\n",
       "      <td>discover</td>\n",
       "      <td>Online playlist more</td>\n",
       "      <td>online-playlist</td>\n",
       "      <td>0</td>\n",
       "      <td>264777.0</td>\n",
       "      <td>2022</td>\n",
       "      <td>旺福 (Wonfu)</td>\n",
       "      <td>姚小民</td>\n",
       "      <td>...</td>\n",
       "      <td>unknown</td>\n",
       "      <td>7</td>\n",
       "      <td>2013-11-21</td>\n",
       "      <td>2017-09-23</td>\n",
       "      <td>2013</td>\n",
       "      <td>11</td>\n",
       "      <td>21</td>\n",
       "      <td>2017</td>\n",
       "      <td>9</td>\n",
       "      <td>23</td>\n",
       "    </tr>\n",
       "  </tbody>\n",
       "</table>\n",
       "<p>5 rows × 24 columns</p>\n",
       "</div>"
      ],
      "text/plain": [
       "                                           msno  \\\n",
       "0  crUeQ6DYDHHRNYmn+n5Kodfvu9ki0IdHfXHNlZEUPHs=   \n",
       "1  rNJWIl2uvL2o+m5xP6Wbu4Pzokslrb2eQlGYe82r7fA=   \n",
       "2  lbJHQba4aEMJUFDFgDE7PwTdR1UoY/iLj+XkofWMsik=   \n",
       "3  B14Thl6p2fkkE10+Jq2KXliDLa7LLQX6b5kEvkVzylw=   \n",
       "4  wGUfULxf/bZwNgo7+2KxcQSKOp+86YtlLJTty1/fp+M=   \n",
       "\n",
       "                                        song_id source_system_tab  \\\n",
       "0  d9Flpsyq/y8CR3F213pnXUkrfK1fMClvhYH37pFSc7s=          discover   \n",
       "1  TRe3/tOgqw/x4a8nhG/qe88tQQXd2P7yem3Ub61D0CQ=        my library   \n",
       "2  AJQOsWR+d8TYfx8K3IngAs9/GSQE5ujDqBx/8PYm6zo=          discover   \n",
       "3  RxCEvZAXgnh1ZDlQBuVb/J9xpnopFSJBaBxLqGZIXSs=        my library   \n",
       "4  ot7ZDLrguBLIG2TiXjT0VGawAzmSlgcDZv6+UkKeOHo=          discover   \n",
       "\n",
       "     source_screen_name      source_type  target  song_length genre_ids  \\\n",
       "0        Discover Genre  online-playlist       1     295497.0       465   \n",
       "1   Local playlist more    local-library       1     274176.0       458   \n",
       "2  Online playlist more  online-playlist       0     285600.0       458   \n",
       "3   Local playlist more   local-playlist       0     297482.0       458   \n",
       "4  Online playlist more  online-playlist       0     264777.0      2022   \n",
       "\n",
       "      artist_name                    composer         ...            gender  \\\n",
       "0           Adele  Adele Adkins| Greg Kurstin         ...              male   \n",
       "1  徐佳瑩 (Lala Hsu)                         黃建為         ...              male   \n",
       "2  林宥嘉 (Yoga Lin)                         張葉帆         ...              male   \n",
       "3  周杰倫 (Jay Chou)                         周杰倫         ...              male   \n",
       "4      旺福 (Wonfu)                         姚小民         ...           unknown   \n",
       "\n",
       "   registered_via  registration_init_time  expiration_date  \\\n",
       "0               9              2014-06-14       2017-09-07   \n",
       "1               7              2013-11-19       2017-10-03   \n",
       "2               9              2008-11-29       2017-07-17   \n",
       "3               9              2005-08-13       2017-10-06   \n",
       "4               7              2013-11-21       2017-09-23   \n",
       "\n",
       "  registration_init_time_year  registration_init_time_month  \\\n",
       "0                        2014                             6   \n",
       "1                        2013                            11   \n",
       "2                        2008                            11   \n",
       "3                        2005                             8   \n",
       "4                        2013                            11   \n",
       "\n",
       "  registration_init_time_day expiration_date_year  expiration_date_month  \\\n",
       "0                         14                 2017                      9   \n",
       "1                         19                 2017                     10   \n",
       "2                         29                 2017                      7   \n",
       "3                         13                 2017                     10   \n",
       "4                         21                 2017                      9   \n",
       "\n",
       "   expiration_date_day  \n",
       "0                    7  \n",
       "1                    3  \n",
       "2                   17  \n",
       "3                    6  \n",
       "4                   23  \n",
       "\n",
       "[5 rows x 24 columns]"
      ]
     },
     "execution_count": 8,
     "metadata": {},
     "output_type": "execute_result"
    }
   ],
   "source": [
    "df.head()"
   ]
  },
  {
   "cell_type": "code",
   "execution_count": 9,
   "metadata": {
    "_cell_guid": "4c55921a-943f-4884-a28e-d7966e8a1f85",
    "_uuid": "52916f887c26c24b300807ed79e8d61a5b326223",
    "collapsed": true
   },
   "outputs": [],
   "source": [
    "# Dates to categoty\n",
    "df['registration_init_time'] = df['registration_init_time'].astype('category')\n",
    "df['expiration_date'] = df['expiration_date'].astype('category')"
   ]
  },
  {
   "cell_type": "code",
   "execution_count": 10,
   "metadata": {
    "_cell_guid": "eb1de5a5-571f-4c9e-b8e1-7e08e28a308c",
    "_uuid": "7735e90a4d941d6cd8fb876b7c701d67d99ae791",
    "collapsed": true
   },
   "outputs": [],
   "source": [
    "# Object data to category\n",
    "for col in df.select_dtypes(include=['object']).columns:\n",
    "    df[col] = df[col].astype('category')\n",
    "    \n",
    "# Encoding categorical features\n",
    "for col in df.select_dtypes(include=['category']).columns:\n",
    "    df[col] = df[col].cat.codes"
   ]
  },
  {
   "cell_type": "code",
   "execution_count": 11,
   "metadata": {
    "_cell_guid": "9957b62e-44b9-4e54-99ff-13a22272dffa",
    "_uuid": "eda172c0ed9467992a3d440300ed5ede7ff63bf4",
    "collapsed": true
   },
   "outputs": [
    {
     "data": {
      "image/png": "[encoded data removed]",
      "text/plain": [
       "<matplotlib.figure.Figure at 0x7f82856c6080>"
      ]
     },
     "metadata": {},
     "output_type": "display_data"
    }
   ],
   "source": [
    "# Сorrelation matrix\n",
    "plt.figure(figsize=[7,5])\n",
    "sns.heatmap(df.corr())\n",
    "plt.show()"
   ]
  },
  {
   "cell_type": "code",
   "execution_count": 12,
   "metadata": {
    "_cell_guid": "f88a219b-876c-4576-b50c-8b560ed80ba3",
    "_uuid": "6b51de4e0d601b55efe8d59a21f56eccb62fb099",
    "collapsed": true
   },
   "outputs": [],
   "source": [
    "# Drop columns\n",
    "df = df.drop(['expiration_date', 'lyricist'], 1)"
   ]
  },
  {
   "cell_type": "markdown",
   "metadata": {
    "_cell_guid": "7197a3aa-2477-4061-a4fc-c39a5fc35510",
    "_uuid": "f7de8e8f3f54cd270790c387b070db4fd8cc434b"
   },
   "source": [
    "## Random Forest\n",
    "\n",
    "I selected the most informative columns using Random Forest Model."
   ]
  },
  {
   "cell_type": "code",
   "execution_count": 13,
   "metadata": {
    "_cell_guid": "5c9aa021-5e01-4d16-ab3b-56c69d3b6673",
    "_uuid": "0838fcc196768fcbc5ee650f3ac7bec675b52722",
    "collapsed": true
   },
   "outputs": [
    {
     "data": {
      "text/plain": [
       "RandomForestClassifier(bootstrap=True, class_weight=None, criterion='gini',\n",
       "            max_depth=25, max_features='auto', max_leaf_nodes=None,\n",
       "            min_impurity_decrease=0.0, min_impurity_split=None,\n",
       "            min_samples_leaf=1, min_samples_split=2,\n",
       "            min_weight_fraction_leaf=0.0, n_estimators=250, n_jobs=1,\n",
       "            oob_score=False, random_state=None, verbose=0,\n",
       "            warm_start=False)"
      ]
     },
     "execution_count": 13,
     "metadata": {},
     "output_type": "execute_result"
    }
   ],
   "source": [
    "# Model with the best estimator\n",
    "model = ensemble.RandomForestClassifier(n_estimators=250, max_depth=25)\n",
    "model.fit(df[df.columns[df.columns != 'target']], df.target)"
   ]
  },
  {
   "cell_type": "code",
   "execution_count": 14,
   "metadata": {
    "_cell_guid": "1171b290-b023-4e4d-9a5d-a80663159940",
    "_uuid": "af4c4b6e5a87f0d1aca39df112bdd70655e003f1",
    "collapsed": true
   },
   "outputs": [],
   "source": [
    "df_plot = pd.DataFrame({'features': df.columns[df.columns != 'target'],\n",
    "                        'importances': model.feature_importances_})\n",
    "df_plot = df_plot.sort_values('importances', ascending=False)"
   ]
  },
  {
   "cell_type": "code",
   "execution_count": 15,
   "metadata": {
    "_cell_guid": "42bae679-abf7-46fa-8499-50bfcc924454",
    "_uuid": "c3e4b7d7abdc72fbbc5523cd2a53a626de7597c3",
    "collapsed": true
   },
   "outputs": [
    {
     "data": {
      "image/png": "[encoded data removed]",
      "text/plain": [
       "<matplotlib.figure.Figure at 0x7f828d95eef0>"
      ]
     },
     "metadata": {},
     "output_type": "display_data"
    }
   ],
   "source": [
    "plt.figure(figsize=[11,5])\n",
    "sns.barplot(x = df_plot.importances, y = df_plot.features)\n",
    "plt.title('Importances of Features Plot')\n",
    "plt.show()"
   ]
  },
  {
   "cell_type": "code",
   "execution_count": 16,
   "metadata": {
    "_cell_guid": "68b327dd-b44b-4601-87cd-23308541480f",
    "_uuid": "a36b2245851a12d27269c46b2715760f85f53beb",
    "collapsed": true
   },
   "outputs": [],
   "source": [
    "# Drop columns with importances < 0.04\n",
    "df = df.drop(df_plot.features[df_plot.importances < 0.04].tolist(), 1)"
   ]
  },
  {
   "cell_type": "code",
   "execution_count": 17,
   "metadata": {
    "_cell_guid": "9f04900f-4ccb-4748-b3e1-3d43d9940746",
    "_uuid": "dbc1d83b322cb977bf5221a28792f2091f1da84c",
    "collapsed": true
   },
   "outputs": [
    {
     "data": {
      "text/plain": [
       "Index(['msno', 'song_id', 'source_screen_name', 'source_type', 'target',\n",
       "       'song_length', 'artist_name', 'composer', 'bd',\n",
       "       'registration_init_time', 'registration_init_time_month',\n",
       "       'registration_init_time_day', 'expiration_date_day'],\n",
       "      dtype='object')"
      ]
     },
     "execution_count": 17,
     "metadata": {},
     "output_type": "execute_result"
    }
   ],
   "source": [
    "# Selected columns\n",
    "df.columns"
   ]
  },
  {
   "cell_type": "markdown",
   "metadata": {
    "_cell_guid": "df524e90-4509-4176-97e6-8478872948ba",
    "_uuid": "266cd4696f4c7750e23bbbc5f51fba84c94a2e32"
   },
   "source": [
    "## XGboost"
   ]
  },
  {
   "cell_type": "code",
   "execution_count": 18,
   "metadata": {
    "_cell_guid": "6cd7dfd3-0c68-4915-8e8e-be2d3414e6f8",
    "_uuid": "5588eec5dbabff9487b14c771342fb2bd2aad23d",
    "collapsed": true
   },
   "outputs": [],
   "source": [
    "# Train & Test split\n",
    "target = df.pop('target')\n",
    "train_data, test_data, train_labels, test_labels = cross_validation.train_test_split(df, target, test_size = 0.3)\n",
    "\n",
    "# Delete df\n",
    "del df"
   ]
  },
  {
   "cell_type": "markdown",
   "metadata": {
    "_cell_guid": "13e48538-1f42-4822-813d-b07c25025940",
    "_uuid": "c676e373fb825eac884651502d17186e01dbe624"
   },
   "source": [
    "The best estimator was selected by Randomized Grid Search with Stratified Shuffle Split Cross Validation."
   ]
  },
  {
   "cell_type": "markdown",
   "metadata": {
    "_cell_guid": "7bd29d91-cd77-4d00-ae2e-e705af55881f",
    "_uuid": "5514bdc61843a293cd93dc826dbb911789ce7d8f"
   },
   "source": [
    "\\# Create model\n",
    "\n",
    "model = xgb.XGBClassifier()\n",
    "\n",
    "\\# Create parameters grid\n",
    "\n",
    "parameters_grid = {\n",
    "    'learning_rate' : [0.1, 0.2, 0.5],\n",
    "    'max_depth' : [5, 10, 15],\n",
    "    'n_estimators' : [150, 250, 300],\n",
    "    'min_child_weight' : [3, 5, 10]\n",
    "}\n",
    "\n",
    "\\# Strategy of cross validation\n",
    "\n",
    "cv = cross_validation.StratifiedShuffleSplit(train_labels, n_iter = 3, test_size = 0.3)\n",
    "\n",
    "\\# Create Grid search Strategy\n",
    "\n",
    "grid_cv = grid_search.RandomizedSearchCV(model, parameters_grid, scoring = 'accuracy', cv = cv)\n",
    "\n",
    "\\# Fit model by Grid\n",
    "\n",
    "grid_cv.fit(train_data, train_labels)\n",
    "\n",
    "\\# Model with the best estimator \n",
    "\n",
    "grid_cv.best_estimator_"
   ]
  },
  {
   "cell_type": "code",
   "execution_count": 19,
   "metadata": {
    "_cell_guid": "3a0b3da1-b63e-45ff-87d6-434c7f391d3f",
    "_uuid": "5f95a9b51a5f112c52afa603625d9710cf9ac229",
    "collapsed": true
   },
   "outputs": [
    {
     "data": {
      "text/plain": [
       "XGBClassifier(base_score=0.5, booster='gbtree', colsample_bylevel=1,\n",
       "       colsample_bytree=1, gamma=0, learning_rate=0.1, max_delta_step=0,\n",
       "       max_depth=15, min_child_weight=5, missing=None, n_estimators=250,\n",
       "       n_jobs=1, nthread=None, objective='binary:logistic', random_state=0,\n",
       "       reg_alpha=0, reg_lambda=1, scale_pos_weight=1, seed=None,\n",
       "       silent=True, subsample=1)"
      ]
     },
     "execution_count": 19,
     "metadata": {},
     "output_type": "execute_result"
    }
   ],
   "source": [
    "# Create model\n",
    "model = xgb.XGBClassifier(learning_rate=0.1, max_depth=15, min_child_weight=5, n_estimators=250)\n",
    "model.fit(train_data, train_labels)"
   ]
  },
  {
   "cell_type": "code",
   "execution_count": 20,
   "metadata": {
    "_cell_guid": "2f38d55f-4e1f-44fa-a956-e8dddbc099d7",
    "_uuid": "163d84d66081b63a5c155f8bf163267d32b57641",
    "collapsed": true
   },
   "outputs": [],
   "source": [
    "# Predicting\n",
    "predict_labels = model.predict(test_data)"
   ]
  },
  {
   "cell_type": "markdown",
   "metadata": {
    "_cell_guid": "668d7fdd-a113-4807-85eb-1733e4779c6c",
    "_uuid": "d09760ecf0153fa319114b3a78758d3939b6761e"
   },
   "source": [
    "## The results of the algorithm"
   ]
  },
  {
   "cell_type": "code",
   "execution_count": 21,
   "metadata": {
    "_cell_guid": "ba0144a2-a2fd-470e-9235-b3706d04c164",
    "_uuid": "ce9eb38a6602c87ddf9e757dd9e2401ae814f909",
    "collapsed": true
   },
   "outputs": [
    {
     "name": "stdout",
     "output_type": "stream",
     "text": [
      "             precision    recall  f1-score   support\n",
      "\n",
      "          0       0.63      0.60      0.61     11129\n",
      "          1       0.61      0.65      0.63     11004\n",
      "\n",
      "avg / total       0.62      0.62      0.62     22133\n",
      "\n"
     ]
    }
   ],
   "source": [
    "print(metrics.classification_report(test_labels, predict_labels))"
   ]
  }
 ],
 "metadata": {
  "kernelspec": {
   "display_name": "Python 3",
   "language": "python",
   "name": "python3"
  },
  "language_info": {
   "codemirror_mode": {
    "name": "ipython",
    "version": 3
   },
   "file_extension": ".py",
   "mimetype": "text/x-python",
   "name": "python",
   "nbconvert_exporter": "python",
   "pygments_lexer": "ipython3",
   "version": "3.6.3"
  }
 },
 "nbformat": 4,
 "nbformat_minor": 1
}
